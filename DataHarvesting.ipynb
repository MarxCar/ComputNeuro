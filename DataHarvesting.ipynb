{
 "cells": [
  {
   "cell_type": "code",
   "execution_count": 1,
   "metadata": {},
   "outputs": [],
   "source": [
    "%matplotlib inline\n",
    "import matplotlib.pyplot as plt\n",
    "import os, re\n",
    "import numpy as np\n",
    "from scipy.stats import mode\n",
    "\n",
    "from sklearn.preprocessing import PolynomialFeatures, StandardScaler, Imputer\n",
    "from sklearn.svm import SVR\n",
    "from itertools import izip_longest"
   ]
  },
  {
   "cell_type": "code",
   "execution_count": 10,
   "metadata": {},
   "outputs": [
    {
     "name": "stdout",
     "output_type": "stream",
     "text": [
      "./trajectories/Fish8 NE1 C200_clean.csv\n",
      "./trajectories/Fish17 NE2 C30_clean.csv\n",
      "./trajectories/Fish9 NE1 C30_clean.csv\n",
      "./trajectories/Fish16 NE2 C200_clean.csv\n",
      "./trajectories/Fish12 NE2 C200_clean.csv\n",
      "./trajectories/Fish3 NE2 C30_clean.csv\n",
      "./trajectories/Fish8 NE2 C30_clean.csv\n",
      "./trajectories/Fish4 NE2 C30_clean.csv\n",
      "./trajectories/Fish4 NE1 C200_clean.csv\n",
      "./trajectories/Fish21 NE2 C200 take2_clean.csv\n",
      "./trajectories/Fish18 NE1 C200_clean.csv\n",
      "./trajectories/Fish1 NE2 C200_clean.csv\n",
      "./trajectories/Fish5 NE2 C30_clean.csv\n",
      "./trajectories/Fish21 NE1 C30_clean.csv\n",
      "./trajectories/Fish2 NE2 C200_clean.csv\n",
      "./trajectories/Fish7 NE1 C30_clean.csv\n",
      "./trajectories/Fish13 NE2 C200_clean.csv\n",
      "./trajectories/Fish6 NE2 C200_clean.csv\n",
      "./trajectories/Fish10 NE1 C200_clean.csv\n",
      "./trajectories/Fish11 NE2 C30_clean.csv\n",
      "./trajectories/Fish10 NE2 C30_clean.csv\n",
      "./trajectories/Fish15 NE1 C30_clean.csv\n",
      "./trajectories/Fish16 NE1 C30_clean.csv\n",
      "./trajectories/Fish19 NE1 C200_clean.csv\n",
      "./trajectories/Fish7 NE2 C200_clean.csv\n",
      "./trajectories/Fish17 NE1 C200_clean.csv\n",
      "./trajectories/Fish3 NE1 C200_clean.csv\n",
      "./trajectories/Fish9 NE2 C200_clean.csv\n",
      "./trajectories/Fish5 NE1 C200_clean.csv\n",
      "./trajectories/Fish19 NE2 C30_clean.csv\n",
      "./trajectories/Fish13 NE1 C30_clean.csv\n",
      "./trajectories/Fish20 NE2 C200_clean.csv\n",
      "./trajectories/Fish14 NE2 C30_clean.csv\n",
      "./trajectories/Fish18 NE2 C200 take2_clean.csv\n",
      "./trajectories/Fish20 NE1 C30_clean.csv\n",
      "./trajectories/Fish11 NE1 C200_clean.csv\n",
      "./trajectories/Fish2 NE1 C30_clean.csv\n",
      "./trajectories/Fish6 NE1 C30_clean.csv\n",
      "./trajectories/Fish15 NE2 C200_clean.csv\n",
      "./trajectories/Fish1 NE1 C30_clean.csv\n",
      "./trajectories/Fish12 NE1 C30_clean.csv\n",
      "./trajectories/Fish14 NE1 C200_clean.csv\n"
     ]
    },
    {
     "data": {
      "text/plain": [
       "42"
      ]
     },
     "execution_count": 10,
     "metadata": {},
     "output_type": "execute_result"
    }
   ],
   "source": [
    "high = []\n",
    "low = []\n",
    "some_dataframe = []\n",
    "all_dataframes = []\n",
    "for root, dirs, files in os.walk(\"./trajectories\"):  \n",
    "    for filename in files:\n",
    "        conductivity = re.search(\"[^h](\\d{2,3})\",filename).group(1) \n",
    "        print './trajectories/' + filename\n",
    "        dataset = np.genfromtxt('./trajectories/' + filename, delimiter=\",\")\n",
    "        size = dataset.shape[0]\n",
    "        all_dataframes.append(dataset)\n",
    "        if conductivity == \"200\":\n",
    "            high.append(size)\n",
    "            some_dataframe.append(dataset)\n",
    "        else:\n",
    "            low.append(size)\n",
    "len(all_dataframes)"
   ]
  },
  {
   "cell_type": "code",
   "execution_count": 11,
   "metadata": {},
   "outputs": [
    {
     "data": {
      "text/plain": [
       "(22, 20)"
      ]
     },
     "execution_count": 11,
     "metadata": {},
     "output_type": "execute_result"
    }
   ],
   "source": [
    "len(high), len(low)"
   ]
  },
  {
   "cell_type": "code",
   "execution_count": 12,
   "metadata": {},
   "outputs": [
    {
     "data": {
      "text/plain": [
       "(543551, 514307)"
      ]
     },
     "execution_count": 12,
     "metadata": {},
     "output_type": "execute_result"
    }
   ],
   "source": [
    "sum(high), sum(low)"
   ]
  },
  {
   "cell_type": "code",
   "execution_count": 13,
   "metadata": {},
   "outputs": [
    {
     "data": {
      "text/plain": [
       "([10, 11], array([[ 27.        ],\n",
       "        [ 27.        ],\n",
       "        [ 27.        ],\n",
       "        [  4.91891892],\n",
       "        [ 27.        ],\n",
       "        [ 27.        ],\n",
       "        [ 27.        ],\n",
       "        [ 27.        ],\n",
       "        [ 27.        ],\n",
       "        [ 27.        ],\n",
       "        [ 26.4004004 ],\n",
       "        [ 22.05005005],\n",
       "        [ 27.        ],\n",
       "        [ 27.        ],\n",
       "        [ 27.        ],\n",
       "        [ 27.        ],\n",
       "        [ 27.        ],\n",
       "        [ 27.        ],\n",
       "        [ 27.        ],\n",
       "        [  4.72572573],\n",
       "        [ 27.        ],\n",
       "        [ 27.        ]]))"
      ]
     },
     "execution_count": 13,
     "metadata": {},
     "output_type": "execute_result"
    }
   ],
   "source": [
    "count = 0\n",
    "remove_last = []\n",
    "for a in (np.c_[high]%999.0):\n",
    "    if a < 500 and a != 0:\n",
    "        remove_last.append(count)\n",
    "    count+=1\n",
    "remove_last, np.c_[high]/999.0"
   ]
  },
  {
   "cell_type": "code",
   "execution_count": 8,
   "metadata": {},
   "outputs": [],
   "source": [
    "def grouper(iterable, n, fillvalue=None):\n",
    "    \"Collect data into fixed-length chunks or blocks\"\n",
    "    # grouper('ABCDEFG', 3, 'x') --> ABC DEF Gxx\n",
    "    args = [iter(iterable)] * n\n",
    "    return izip_longest(fillvalue=fillvalue, *args)"
   ]
  },
  {
   "cell_type": "code",
   "execution_count": 25,
   "metadata": {},
   "outputs": [
    {
     "data": {
      "text/plain": [
       "(27, 999, 2)"
      ]
     },
     "execution_count": 25,
     "metadata": {},
     "output_type": "execute_result"
    }
   ],
   "source": [
    "h = some_dataframe[2]\n",
    "a = np.asarray(list(grouper(list(h), 999, [0,0])))\n",
    "a.shape"
   ]
  },
  {
   "cell_type": "code",
   "execution_count": 26,
   "metadata": {},
   "outputs": [
    {
     "data": {
      "text/plain": [
       "Imputer(axis=0, copy=True, missing_values=0, strategy='mean', verbose=0)"
      ]
     },
     "execution_count": 26,
     "metadata": {},
     "output_type": "execute_result"
    }
   ],
   "source": [
    "imp = Imputer(missing_values=0,strategy=\"mean\", copy=True)\n",
    "imp.fit(a[-1])"
   ]
  },
  {
   "cell_type": "code",
   "execution_count": 27,
   "metadata": {},
   "outputs": [
    {
     "data": {
      "text/plain": [
       "[<matplotlib.lines.Line2D at 0x7f723b5409d0>]"
      ]
     },
     "execution_count": 27,
     "metadata": {},
     "output_type": "execute_result"
    },
    {
     "data": {
      "image/png": "[encoded data removed]",
      "text/plain": [
       "<matplotlib.figure.Figure at 0x7f722af07210>"
      ]
     },
     "metadata": {},
     "output_type": "display_data"
    }
   ],
   "source": [
    "finished_dataframe = imp.transform(a[-1])\n",
    "plt.plot(finished_dataframe[:,0], finished_dataframe[:,1])\n",
    "comparison = np.asarray(a[0])\n",
    "plt.plot(comparison[:,0], comparison[:,1])"
   ]
  },
  {
   "cell_type": "markdown",
   "metadata": {},
   "source": [
    "This shows the difference between two models of the same label (high conductivity), one that is filled via mean imputation (original size 725) and one that is complete (size 999)"
   ]
  },
  {
   "cell_type": "code",
   "execution_count": 7,
   "metadata": {},
   "outputs": [],
   "source": [
    "def fill_missing(dataset):\n",
    "    imp = Imputer(missing_values=0,strategy=\"mean\", copy=True)\n",
    "    return imp.fit_transform(dataset)"
   ]
  },
  {
   "cell_type": "code",
   "execution_count": 31,
   "metadata": {},
   "outputs": [
    {
     "data": {
      "text/plain": [
       "array([[ 666.,  428.],\n",
       "       [ 671.,  429.],\n",
       "       [ 677.,  430.],\n",
       "       ..., \n",
       "       [ 903.,   77.],\n",
       "       [ 899.,   76.],\n",
       "       [ 894.,   75.]])"
      ]
     },
     "execution_count": 31,
     "metadata": {},
     "output_type": "execute_result"
    }
   ],
   "source": [
    "fill_missing(a[-1])"
   ]
  },
  {
   "cell_type": "code",
   "execution_count": 6,
   "metadata": {},
   "outputs": [],
   "source": [
    "def split_dataframe(data, split_size=999, threshold=400):\n",
    "    remainder = data.shape[0] % split_size\n",
    "    splitted_data = list(grouper(data, split_size, [0,0]))\n",
    "    splitted_data = np.asarray(splitted_data)\n",
    "    if remainder < threshold: #if there is less than 400 data points in the last set of the splitted data\n",
    "        splitted_data = np.delete(splitted_data, -1, 0) #delete the last set\n",
    "    #elif remainder != 0: #if there are more than 400 data points and less than the split size\n",
    "    #    splitted_data[-1] = fill_missing(splitted_data[-1])\n",
    "    return splitted_data"
   ]
  },
  {
   "cell_type": "code",
   "execution_count": 33,
   "metadata": {},
   "outputs": [
    {
     "name": "stdout",
     "output_type": "stream",
     "text": [
      "(52, 999, 2)\n",
      "(52, 999, 2)\n"
     ]
    }
   ],
   "source": [
    "print(np.concatenate((split_dataframe(some_dataframe[2]), split_dataframe(some_dataframe[6])), axis=0).shape)\n",
    "ds = [split_dataframe(some_dataframe[2]), split_dataframe(some_dataframe[6])]\n",
    "print np.concatenate(tuple(ds)).shape"
   ]
  },
  {
   "cell_type": "code",
   "execution_count": 16,
   "metadata": {},
   "outputs": [],
   "source": [
    "def split_and_combine_splits(dataframes):\n",
    "    temp = dataframes\n",
    "    dataframes[:] = [split_dataframe(np.asarray(dataframe)) for dataframe in dataframes]\n",
    "    print(dataframes == temp)\n",
    "    dataframes_as_tuples = tuple(dataframes)\n",
    "    \n",
    "    return np.concatenate(dataframes_as_tuples, axis=0)"
   ]
  },
  {
   "cell_type": "code",
   "execution_count": 35,
   "metadata": {},
   "outputs": [
    {
     "name": "stdout",
     "output_type": "stream",
     "text": [
      "True\n"
     ]
    }
   ],
   "source": [
    "complete_dataset = split_and_combine_splits(all_dataframes)"
   ]
  },
  {
   "cell_type": "code",
   "execution_count": 36,
   "metadata": {},
   "outputs": [
    {
     "data": {
      "text/plain": [
       "[<matplotlib.lines.Line2D at 0x7f725eaecbd0>]"
      ]
     },
     "execution_count": 36,
     "metadata": {},
     "output_type": "execute_result"
    },
    {
     "data": {
      "image/png": "[encoded data removed]",
      "text/plain": [
       "<matplotlib.figure.Figure at 0x7f722faeedd0>"
      ]
     },
     "metadata": {},
     "output_type": "display_data"
    }
   ],
   "source": [
    "plt.plot(complete_dataset[-21][:,0], complete_dataset[-21][:,1])"
   ]
  },
  {
   "cell_type": "code",
   "execution_count": 37,
   "metadata": {},
   "outputs": [
    {
     "data": {
      "text/plain": [
       "(1026, 999, 2)"
      ]
     },
     "execution_count": 37,
     "metadata": {},
     "output_type": "execute_result"
    }
   ],
   "source": [
    "complete_dataset.shape"
   ]
  },
  {
   "cell_type": "code",
   "execution_count": 38,
   "metadata": {},
   "outputs": [],
   "source": [
    "np.save(\"./Experiments/trajectory_v_math/train/pos_set\", complete_dataset)"
   ]
  },
  {
   "cell_type": "code",
   "execution_count": 26,
   "metadata": {},
   "outputs": [],
   "source": [
    "for index,trajectory in zip(range(complete_dataset.shape[0]),complete_dataset):\n",
    "    np.savetxt(\"./Experiments/trajectory_v_math/train/pos_set/file_[%s].csv\" % index, trajectory, delimiter=\",\")"
   ]
  },
  {
   "cell_type": "markdown",
   "metadata": {},
   "source": [
    "<h2>Experiment 2</h2>"
   ]
  },
  {
   "cell_type": "code",
   "execution_count": 24,
   "metadata": {},
   "outputs": [
    {
     "name": "stdout",
     "output_type": "stream",
     "text": [
      "./trajectories/Fish8 NE1 C200_clean.csv\n",
      "(26973, 2)\n",
      "./trajectories/Fish17 NE2 C30_clean.csv\n",
      "(26973, 2)\n",
      "./trajectories/Fish9 NE1 C30_clean.csv\n",
      "(26973, 2)\n",
      "./trajectories/Fish16 NE2 C200_clean.csv\n",
      "(26973, 2)\n",
      "./trajectories/Fish12 NE2 C200_clean.csv\n",
      "(26973, 2)\n",
      "./trajectories/Fish3 NE2 C30_clean.csv\n",
      "(26614, 2)\n",
      "./trajectories/Fish8 NE2 C30_clean.csv\n",
      "(4696, 2)\n",
      "./trajectories/Fish4 NE2 C30_clean.csv\n",
      "(24456, 2)\n",
      "./trajectories/Fish4 NE1 C200_clean.csv\n",
      "(4914, 2)\n",
      "./trajectories/Fish21 NE2 C200 take2_clean.csv\n",
      "(26973, 2)\n",
      "./trajectories/Fish18 NE1 C200_clean.csv\n",
      "(26973, 2)\n",
      "./trajectories/Fish1 NE2 C200_clean.csv\n",
      "(26973, 2)\n",
      "./trajectories/Fish5 NE2 C30_clean.csv\n",
      "(26973, 2)\n",
      "./trajectories/Fish21 NE1 C30_clean.csv\n",
      "(26973, 2)\n",
      "./trajectories/Fish2 NE2 C200_clean.csv\n",
      "(26973, 2)\n",
      "./trajectories/Fish7 NE1 C30_clean.csv\n",
      "(26973, 2)\n",
      "./trajectories/Fish13 NE2 C200_clean.csv\n",
      "(26973, 2)\n",
      "./trajectories/Fish6 NE2 C200_clean.csv\n",
      "(26973, 2)\n",
      "./trajectories/Fish10 NE1 C200_clean.csv\n",
      "(26374, 2)\n",
      "./trajectories/Fish11 NE2 C30_clean.csv\n",
      "(26973, 2)\n",
      "./trajectories/Fish10 NE2 C30_clean.csv\n",
      "(26973, 2)\n",
      "./trajectories/Fish15 NE1 C30_clean.csv\n",
      "(26973, 2)\n",
      "./trajectories/Fish16 NE1 C30_clean.csv\n",
      "(26973, 2)\n",
      "./trajectories/Fish19 NE1 C200_clean.csv\n",
      "(22028, 2)\n",
      "./trajectories/Fish7 NE2 C200_clean.csv\n",
      "(26973, 2)\n",
      "./trajectories/Fish17 NE1 C200_clean.csv\n",
      "(26973, 2)\n",
      "./trajectories/Fish3 NE1 C200_clean.csv\n",
      "(26973, 2)\n",
      "./trajectories/Fish9 NE2 C200_clean.csv\n",
      "(26973, 2)\n",
      "./trajectories/Fish5 NE1 C200_clean.csv\n",
      "(26973, 2)\n",
      "./trajectories/Fish19 NE2 C30_clean.csv\n",
      "(26973, 2)\n",
      "./trajectories/Fish13 NE1 C30_clean.csv\n",
      "(26973, 2)\n",
      "./trajectories/Fish20 NE2 C200_clean.csv\n",
      "(26973, 2)\n",
      "./trajectories/Fish14 NE2 C30_clean.csv\n",
      "(26973, 2)\n",
      "./trajectories/Fish18 NE2 C200 take2_clean.csv\n",
      "(26973, 2)\n",
      "./trajectories/Fish20 NE1 C30_clean.csv\n",
      "(26973, 2)\n",
      "./trajectories/Fish11 NE1 C200_clean.csv\n",
      "(4721, 2)\n",
      "./trajectories/Fish2 NE1 C30_clean.csv\n",
      "(26973, 2)\n",
      "./trajectories/Fish6 NE1 C30_clean.csv\n",
      "(26973, 2)\n",
      "./trajectories/Fish15 NE2 C200_clean.csv\n",
      "(26973, 2)\n",
      "./trajectories/Fish1 NE1 C30_clean.csv\n",
      "(26973, 2)\n",
      "./trajectories/Fish12 NE1 C30_clean.csv\n",
      "(26973, 2)\n",
      "./trajectories/Fish14 NE1 C200_clean.csv\n",
      "(26973, 2)\n"
     ]
    },
    {
     "data": {
      "text/plain": [
       "20"
      ]
     },
     "execution_count": 24,
     "metadata": {},
     "output_type": "execute_result"
    }
   ],
   "source": [
    "high_dataframes = []\n",
    "low_dataframes = []\n",
    "for root, dirs, files in os.walk(\"./trajectories\"):  \n",
    "    for filename in files:\n",
    "        conductivity = re.search(\"[^h](\\d{2,3})\",filename).group(1) \n",
    "        print './trajectories/' + filename\n",
    "        dataset = np.genfromtxt('./trajectories/' + filename, delimiter=\",\")\n",
    "        print(dataset.shape)\n",
    "        if conductivity == \"200\":\n",
    "            high_dataframes.append(dataset)\n",
    "        else:\n",
    "            low_dataframes.append(dataset)\n",
    "len(low_dataframes)"
   ]
  },
  {
   "cell_type": "code",
   "execution_count": 25,
   "metadata": {},
   "outputs": [
    {
     "name": "stdout",
     "output_type": "stream",
     "text": [
      "True\n",
      "True\n"
     ]
    }
   ],
   "source": [
    "h = split_and_combine_splits(high_dataframes)\n",
    "l = split_and_combine_splits(low_dataframes)"
   ]
  },
  {
   "cell_type": "code",
   "execution_count": 29,
   "metadata": {},
   "outputs": [
    {
     "data": {
      "text/plain": [
       "[<matplotlib.lines.Line2D at 0x7f65fac5a790>]"
      ]
     },
     "execution_count": 29,
     "metadata": {},
     "output_type": "execute_result"
    },
    {
     "data": {
      "image/png": "[encoded data removed]",
      "text/plain": [
       "<matplotlib.figure.Figure at 0x7f6631954650>"
      ]
     },
     "metadata": {},
     "output_type": "display_data"
    }
   ],
   "source": [
    "plt.plot(h[0][:,0], h[0][:,1])\n",
    "plt.plot(l[0][:,0], h[0][:,1])"
   ]
  },
  {
   "cell_type": "code",
   "execution_count": 30,
   "metadata": {},
   "outputs": [],
   "source": [
    "np.save(\"./Experiments/high_v_low/train/pos\", h)\n",
    "np.save(\"./Experiments/high_v_low/train/neg\", l)"
   ]
  }
 ],
 "metadata": {
  "kernelspec": {
   "display_name": "Python 2",
   "language": "python",
   "name": "python2"
  },
  "language_info": {
   "codemirror_mode": {
    "name": "ipython",
    "version": 2
   },
   "file_extension": ".py",
   "mimetype": "text/x-python",
   "name": "python",
   "nbconvert_exporter": "python",
   "pygments_lexer": "ipython2",
   "version": "2.7.9"
  }
 },
 "nbformat": 4,
 "nbformat_minor": 2
}
