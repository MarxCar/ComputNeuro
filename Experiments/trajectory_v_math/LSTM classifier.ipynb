{
 "cells": [
  {
   "cell_type": "code",
   "execution_count": 8,
   "metadata": {},
   "outputs": [],
   "source": [
    "%matplotlib qt\n",
    "from keras.models import Sequential, load_model\n",
    "from keras.datasets import imdb\n",
    "from keras.layers import Dense, Dropout\n",
    "from keras.layers import LSTM, RNN\n",
    "from keras.callbacks import ModelCheckpoint\n",
    "import numpy as np\n",
    "from sklearn.preprocessing import StandardScaler\n",
    "from sklearn.model_selection import train_test_split, StratifiedKFold\n",
    "from sklearn.metrics import confusion_matrix, accuracy_score\n",
    "import matplotlib.pyplot as plt"
   ]
  },
  {
   "cell_type": "code",
   "execution_count": 2,
   "metadata": {},
   "outputs": [
    {
     "name": "stderr",
     "output_type": "stream",
     "text": [
      "/home/sam/anaconda3/lib/python3.6/site-packages/sklearn/utils/validation.py:475: DataConversionWarning: Data with input dtype float128 was converted to float64 by StandardScaler.\n",
      "  warnings.warn(msg, DataConversionWarning)\n"
     ]
    }
   ],
   "source": [
    "pos_set = np.load(\"./train/pos_set.npy\")\n",
    "neg_set = np.load(\"./train/neg_set.npy\")\n",
    "\n",
    "complete = np.concatenate((pos_set, neg_set))\n",
    "y = np.concatenate((np.ones((pos_set.shape[0],1)), np.zeros((neg_set.shape[0],1))))\n",
    "\n",
    "scaled_data = []\n",
    "\n",
    "for trajectory in complete:\n",
    "    std = StandardScaler()\n",
    "    scaled_data.append(std.fit_transform(trajectory))\n",
    "\n",
    "scaled_data = np.asarray(scaled_data)"
   ]
  },
  {
   "cell_type": "code",
   "execution_count": 6,
   "metadata": {},
   "outputs": [
    {
     "data": {
      "text/plain": [
       "((1933, 999, 2), (1933, 1))"
      ]
     },
     "execution_count": 6,
     "metadata": {},
     "output_type": "execute_result"
    }
   ],
   "source": [
    "scaled_data.shape, y.shape"
   ]
  },
  {
   "cell_type": "code",
   "execution_count": 3,
   "metadata": {},
   "outputs": [],
   "source": [
    "X_train, X_test, y_train, y_test = train_test_split(scaled_data, y, test_size=0.25, random_state=42)"
   ]
  },
  {
   "cell_type": "code",
   "execution_count": 17,
   "metadata": {},
   "outputs": [],
   "source": [
    "model = Sequential()\n",
    "model.add(LSTM(126, input_shape=(999, 2), return_sequences=True, dropout=0.2))\n",
    "model.add(LSTM(64, return_sequences=True))\n",
    "model.add(LSTM(16, dropout=0.2))\n",
    "model.add(Dense(1, activation=\"sigmoid\"))"
   ]
  },
  {
   "cell_type": "code",
   "execution_count": 18,
   "metadata": {},
   "outputs": [
    {
     "name": "stdout",
     "output_type": "stream",
     "text": [
      "_________________________________________________________________\n",
      "Layer (type)                 Output Shape              Param #   \n",
      "=================================================================\n",
      "lstm_7 (LSTM)                (None, 999, 126)          65016     \n",
      "_________________________________________________________________\n",
      "lstm_8 (LSTM)                (None, 999, 64)           48896     \n",
      "_________________________________________________________________\n",
      "lstm_9 (LSTM)                (None, 16)                5184      \n",
      "_________________________________________________________________\n",
      "dense_3 (Dense)              (None, 1)                 17        \n",
      "=================================================================\n",
      "Total params: 119,113\n",
      "Trainable params: 119,113\n",
      "Non-trainable params: 0\n",
      "_________________________________________________________________\n"
     ]
    }
   ],
   "source": [
    "model.summary()"
   ]
  },
  {
   "cell_type": "code",
   "execution_count": 37,
   "metadata": {},
   "outputs": [],
   "source": [
    "model.compile(loss=\"binary_crossentropy\", optimizer=\"rmsprop\", metrics=[\"acc\"])"
   ]
  },
  {
   "cell_type": "code",
   "execution_count": 41,
   "metadata": {},
   "outputs": [
    {
     "name": "stdout",
     "output_type": "stream",
     "text": [
      "Train on 1014 samples, validate on 435 samples\n",
      "Epoch 1/10\n",
      "1014/1014 [==============================] - 68s 67ms/step - loss: 0.1371 - acc: 0.9645 - val_loss: 0.0437 - val_acc: 0.9977\n",
      "Epoch 2/10\n",
      "1014/1014 [==============================] - 67s 66ms/step - loss: 0.1347 - acc: 0.9645 - val_loss: 0.0438 - val_acc: 0.9954\n",
      "Epoch 3/10\n",
      "1014/1014 [==============================] - 67s 67ms/step - loss: 0.1928 - acc: 0.9310 - val_loss: 0.1147 - val_acc: 0.9379\n",
      "Epoch 4/10\n",
      "1014/1014 [==============================] - 68s 67ms/step - loss: 0.2212 - acc: 0.9142 - val_loss: 0.0943 - val_acc: 0.9770\n",
      "Epoch 5/10\n",
      "1014/1014 [==============================] - 68s 67ms/step - loss: 0.1615 - acc: 0.9467 - val_loss: 0.1256 - val_acc: 0.9701\n",
      "Epoch 6/10\n",
      "1014/1014 [==============================] - 68s 67ms/step - loss: 0.1098 - acc: 0.9655 - val_loss: 0.0526 - val_acc: 0.9977\n",
      "Epoch 7/10\n",
      "1014/1014 [==============================] - 67s 67ms/step - loss: 0.1188 - acc: 0.9625 - val_loss: 0.2481 - val_acc: 0.9540\n",
      "Epoch 8/10\n",
      "1014/1014 [==============================] - 69s 68ms/step - loss: 0.1976 - acc: 0.9458 - val_loss: 0.0504 - val_acc: 0.9908\n",
      "Epoch 9/10\n",
      "1014/1014 [==============================] - 67s 66ms/step - loss: 0.1508 - acc: 0.9625 - val_loss: 0.1124 - val_acc: 0.9724\n",
      "Epoch 10/10\n",
      "1014/1014 [==============================] - 68s 67ms/step - loss: 0.1300 - acc: 0.9596 - val_loss: 0.0545 - val_acc: 0.9885\n"
     ]
    }
   ],
   "source": [
    "history = model.fit(X_train, y_train,\n",
    "                    epochs=10,\n",
    "                    validation_split=0.3,\n",
    "                    shuffle=True,\n",
    "                    callbacks=[ModelCheckpoint(\"./models_lstm1/weights.{epoch:02d}-{val_loss:.2f}.hdf5\")]\n",
    "                   )"
   ]
  },
  {
   "cell_type": "code",
   "execution_count": 42,
   "metadata": {},
   "outputs": [
    {
     "name": "stdout",
     "output_type": "stream",
     "text": [
      "484/484 [==============================] - 5s 11ms/step\n"
     ]
    },
    {
     "data": {
      "text/plain": [
       "[0.040990727638040694, 0.993801652892562]"
      ]
     },
     "execution_count": 42,
     "metadata": {},
     "output_type": "execute_result"
    }
   ],
   "source": [
    "model.evaluate(X_test,y_test)"
   ]
  },
  {
   "cell_type": "code",
   "execution_count": 85,
   "metadata": {},
   "outputs": [
    {
     "ename": "NameError",
     "evalue": "name 'history' is not defined",
     "output_type": "error",
     "traceback": [
      "\u001b[0;31m---------------------------------------------------------------------------\u001b[0m",
      "\u001b[0;31mNameError\u001b[0m                                 Traceback (most recent call last)",
      "\u001b[0;32m<ipython-input-85-e10366a88f2d>\u001b[0m in \u001b[0;36m<module>\u001b[0;34m()\u001b[0m\n\u001b[0;32m----> 1\u001b[0;31m \u001b[0mplt\u001b[0m\u001b[0;34m.\u001b[0m\u001b[0mplot\u001b[0m\u001b[0;34m(\u001b[0m\u001b[0mrange\u001b[0m\u001b[0;34m(\u001b[0m\u001b[0;36m1\u001b[0m\u001b[0;34m,\u001b[0m\u001b[0;36m11\u001b[0m\u001b[0;34m)\u001b[0m\u001b[0;34m,\u001b[0m\u001b[0mhistory\u001b[0m\u001b[0;34m.\u001b[0m\u001b[0mhistory\u001b[0m\u001b[0;34m[\u001b[0m\u001b[0;34m\"val_acc\"\u001b[0m\u001b[0;34m]\u001b[0m\u001b[0;34m,\u001b[0m \u001b[0mlabel\u001b[0m\u001b[0;34m=\u001b[0m\u001b[0;34m\"Validation Accuracy\"\u001b[0m\u001b[0;34m)\u001b[0m\u001b[0;34m\u001b[0m\u001b[0m\n\u001b[0m\u001b[1;32m      2\u001b[0m \u001b[0mplt\u001b[0m\u001b[0;34m.\u001b[0m\u001b[0mplot\u001b[0m\u001b[0;34m(\u001b[0m\u001b[0mrange\u001b[0m\u001b[0;34m(\u001b[0m\u001b[0;36m1\u001b[0m\u001b[0;34m,\u001b[0m\u001b[0;36m11\u001b[0m\u001b[0;34m)\u001b[0m\u001b[0;34m,\u001b[0m \u001b[0mhistory\u001b[0m\u001b[0;34m.\u001b[0m\u001b[0mhistory\u001b[0m\u001b[0;34m[\u001b[0m\u001b[0;34m\"acc\"\u001b[0m\u001b[0;34m]\u001b[0m\u001b[0;34m,\u001b[0m \u001b[0mlabel\u001b[0m\u001b[0;34m=\u001b[0m\u001b[0;34m\"Training Accuracy\"\u001b[0m\u001b[0;34m)\u001b[0m\u001b[0;34m\u001b[0m\u001b[0m\n",
      "\u001b[0;31mNameError\u001b[0m: name 'history' is not defined"
     ]
    }
   ],
   "source": [
    "plt.plot(range(1,11),history.history[\"val_acc\"], label=\"Validation Accuracy\")\n",
    "plt.plot(range(1,11), history.history[\"acc\"], label=\"Training Accuracy\")"
   ]
  },
  {
   "cell_type": "code",
   "execution_count": 9,
   "metadata": {},
   "outputs": [],
   "source": [
    "model_train_test = load_model(\"./models_lstm1/weights.10-0.05.hdf5\")"
   ]
  },
  {
   "cell_type": "code",
   "execution_count": null,
   "metadata": {},
   "outputs": [],
   "source": [
    "kfold = StratifiedKFold(n_splits=10, shuffle=True, random_state=seed)\n",
    "cvscores = []\n",
    "for train, test in kfold.split(complete, y):\n",
    "  # create model\n",
    "    model = Sequential()\n",
    "    model.add(LSTM(126, input_shape=(999, 2), return_sequences=True, dropout=0.2))\n",
    "    model.add(LSTM(64, return_sequences=True))\n",
    "    model.add(LSTM(16, dropout=0.2))\n",
    "    model.add(Dense(1, activation=\"sigmoid\"))\n",
    "    # Compile model\n",
    "    model.compile(loss='binary_crossentropy', optimizer='rmsprop', metrics=['accuracy'])\n",
    "    # Fit the model\n",
    "    model.fit(X[train], Y[train], epochs=150, batch_size=10, verbose=0)\n",
    "    # evaluate the model\n",
    "    scores = model.evaluate(X[test], Y[test], verbose=0)\n",
    "    print(\"%s: %.2f%%\" % (model.metrics_names[1], scores[1]*100))\n",
    "    cvscores.append(scores[1] * 100)\n",
    "print(\"%.2f%% (+/- %.2f%%)\" % (numpy.mean(cvscores), numpy.std(cvscores)))"
   ]
  }
 ],
 "metadata": {
  "kernelspec": {
   "display_name": "Python 3",
   "language": "python",
   "name": "python3"
  },
  "language_info": {
   "codemirror_mode": {
    "name": "ipython",
    "version": 3
   },
   "file_extension": ".py",
   "mimetype": "text/x-python",
   "name": "python",
   "nbconvert_exporter": "python",
   "pygments_lexer": "ipython3",
   "version": "3.6.5"
  }
 },
 "nbformat": 4,
 "nbformat_minor": 2
}
