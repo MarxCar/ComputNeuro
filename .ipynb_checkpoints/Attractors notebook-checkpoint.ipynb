{
 "cells": [
  {
   "cell_type": "code",
   "execution_count": 79,
   "metadata": {},
   "outputs": [],
   "source": [
    "%matplotlib qt\n",
    "import numpy as np\n",
    "import matplotlib.pyplot as plt\n",
    "from mpl_toolkits.mplot3d import Axes3D\n",
    "import random\n",
    "\n",
    "def lorenz(x, y, z, s, r, b):\n",
    "    x_dot = s*(y - x)\n",
    "    y_dot = r*x - y - x*z\n",
    "    z_dot = x*y - b*z\n",
    "    return x_dot, y_dot, z_dot\n",
    "\n",
    "\n",
    "dt = 0.01\n",
    "stepCnt = 500\n",
    "\n",
    "\n",
    "def attractor(param=[10,28,2.667]):\n",
    "\t# Need one more for the initial values\n",
    "\ts, r, b = param\n",
    "\txs = np.empty((stepCnt + 1,))\n",
    "\tys = np.empty((stepCnt + 1,))\n",
    "\tzs = np.empty((stepCnt + 1,))\n",
    "\n",
    "\t# Setting initial values\n",
    "\txs[0], ys[0], zs[0] = (0., 1., 1.05)\n",
    "\n",
    "\t# Stepping through \"time\".\n",
    "\tfor i in range(stepCnt):\n",
    "\t    # Derivatives of the X, Y, Z state\n",
    "\t    x_dot, y_dot, z_dot = lorenz(xs[i], ys[i], zs[i], s, r, b)\n",
    "\t    xs[i + 1] = xs[i] + (x_dot * dt)\n",
    "\t    ys[i + 1] = ys[i] + (y_dot * dt)\n",
    "\t    zs[i + 1] = zs[i] + (z_dot * dt* random.randint(1,15)/10.0)\n",
    "\treturn xs, zs"
   ]
  },
  {
   "cell_type": "code",
   "execution_count": 65,
   "metadata": {},
   "outputs": [
    {
     "name": "stderr",
     "output_type": "stream",
     "text": [
      "/home/sam/anaconda2/lib/python2.7/site-packages/ipykernel_launcher.py:9: RuntimeWarning: overflow encountered in double_scalars\n",
      "  if __name__ == '__main__':\n",
      "/home/sam/anaconda2/lib/python2.7/site-packages/ipykernel_launcher.py:10: RuntimeWarning: overflow encountered in double_scalars\n",
      "  # Remove the CWD from sys.path while we load stuff.\n",
      "/home/sam/anaconda2/lib/python2.7/site-packages/ipykernel_launcher.py:9: RuntimeWarning: invalid value encountered in double_scalars\n",
      "  if __name__ == '__main__':\n",
      "/home/sam/anaconda2/lib/python2.7/site-packages/ipykernel_launcher.py:34: RuntimeWarning: invalid value encountered in double_scalars\n",
      "/home/sam/anaconda2/lib/python2.7/site-packages/ipykernel_launcher.py:10: RuntimeWarning: invalid value encountered in double_scalars\n",
      "  # Remove the CWD from sys.path while we load stuff.\n",
      "/home/sam/anaconda2/lib/python2.7/site-packages/ipykernel_launcher.py:33: RuntimeWarning: invalid value encountered in double_scalars\n"
     ]
    }
   ],
   "source": [
    "\n",
    "num_graphs = 20\n",
    "\n",
    "s_range = [11,100]\n",
    "r_range = [47,70]\n",
    "b_range = [2.4,10]\n",
    "parameters = ['s', 'r', 'b']\n",
    "param_ranges = [s_range, r_range, b_range]\n",
    "count = 0\t\n",
    "for param_range in param_ranges:\n",
    "\tfor index, param_val in zip(range(1 + count*num_graphs, (count+2)*num_graphs),np.linspace(param_range[0],param_range[1],num_graphs)):\n",
    "\n",
    "\t\tparam_array = [10,28,2.4]\n",
    "\t\tparam_array[count] = param_val\n",
    "\t\tplt.subplot(3,num_graphs,index)\n",
    "\n",
    "\t\tplt.title(\"%s=%.2f\" % (parameters[count],param_val))\n",
    "\t\tplt.axis('off')\n",
    "\t\txs, ys = attractor(param_array)\n",
    "\t\tplt.plot(xs,ys)\n",
    "\t\n",
    "\tcount += 1\n"
   ]
  },
  {
   "cell_type": "code",
   "execution_count": 93,
   "metadata": {},
   "outputs": [
    {
     "data": {
      "text/plain": [
       "[<matplotlib.lines.Line2D at 0x7f24042a6e90>]"
      ]
     },
     "execution_count": 93,
     "metadata": {},
     "output_type": "execute_result"
    }
   ],
   "source": [
    "x,y = attractor([15,56.6,5])\n",
    "plt.plot(x,y)"
   ]
  },
  {
   "cell_type": "code",
   "execution_count": 3,
   "metadata": {},
   "outputs": [],
   "source": [
    "#plt.savefig(\"attractor\\ pics/X&Y.png\")\n",
    "\n",
    "#plt.set_title(\"Lorenz Attractor\")\n",
    "plt.show()"
   ]
  }
 ],
 "metadata": {
  "kernelspec": {
   "display_name": "Python 3",
   "language": "python",
   "name": "python3"
  },
  "language_info": {
   "codemirror_mode": {
    "name": "ipython",
    "version": 2
   },
   "file_extension": ".py",
   "mimetype": "text/x-python",
   "name": "python",
   "nbconvert_exporter": "python",
   "pygments_lexer": "ipython2",
   "version": "2.7.15"
  }
 },
 "nbformat": 4,
 "nbformat_minor": 2
}
