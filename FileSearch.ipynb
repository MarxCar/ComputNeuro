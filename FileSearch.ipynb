{
 "cells": [
  {
   "cell_type": "code",
   "execution_count": 42,
   "metadata": {},
   "outputs": [],
   "source": [
    "import os, re\n",
    "import numpy as np\n",
    "from scipy.stats import mode"
   ]
  },
  {
   "cell_type": "code",
   "execution_count": 28,
   "metadata": {},
   "outputs": [
    {
     "name": "stdout",
     "output_type": "stream",
     "text": [
      "./trajectories/Fish14 NE1 C200_clean.csv\n",
      "./trajectories/Fish15 NE2 C200_clean.csv\n",
      "./trajectories/Fish11 NE1 C200_clean.csv\n",
      "./trajectories/Fish12 NE1 C30_clean.csv\n",
      "./trajectories/Fish16 NE1 C30_clean.csv\n",
      "./trajectories/Fish6 NE2 C200_clean.csv\n",
      "./trajectories/Fish21 NE2 C200 take2_clean.csv\n",
      "./trajectories/Fish18 NE1 C200_clean.csv\n",
      "./trajectories/Fish19 NE1 C200_clean.csv\n",
      "./trajectories/Fish7 NE1 C30_clean.csv\n",
      "./trajectories/Fish1 NE1 C30_clean.csv\n",
      "./trajectories/Fish5 NE2 C30_clean.csv\n",
      "./trajectories/Fish19 NE2 C30_clean.csv\n",
      "./trajectories/Fish8 NE1 C200_clean.csv\n",
      "./trajectories/Fish20 NE2 C200_clean.csv\n",
      "./trajectories/Fish4 NE2 C30_clean.csv\n",
      "./trajectories/Fish21 NE1 C30_clean.csv\n",
      "./trajectories/Fish10 NE1 C200_clean.csv\n",
      "./trajectories/Fish2 NE1 C30_clean.csv\n",
      "./trajectories/Fish3 NE1 C200_clean.csv\n",
      "./trajectories/Fish2 NE2 C200_clean.csv\n",
      "./trajectories/Fish17 NE2 C30_clean.csv\n",
      "./trajectories/Fish17 NE1 C200_clean.csv\n",
      "./trajectories/Fish12 NE2 C200_clean.csv\n",
      "./trajectories/Fish14 NE2 C30_clean.csv\n",
      "./trajectories/Fish1 NE2 C200_clean.csv\n",
      "./trajectories/Fish7 NE2 C200_clean.csv\n",
      "./trajectories/Fish8 NE2 C30_clean.csv\n",
      "./trajectories/Fish15 NE1 C30_clean.csv\n",
      "./trajectories/Fish10 NE2 C30_clean.csv\n",
      "./trajectories/Fish9 NE1 C30_clean.csv\n",
      "./trajectories/Fish3 NE2 C30_clean.csv\n",
      "./trajectories/Fish6 NE1 C30_clean.csv\n",
      "./trajectories/Fish11 NE2 C30_clean.csv\n",
      "./trajectories/Fish9 NE2 C200_clean.csv\n",
      "./trajectories/Fish4 NE1 C200_clean.csv\n",
      "./trajectories/Fish16 NE2 C200_clean.csv\n",
      "./trajectories/Fish18 NE2 C200 take2_clean.csv\n",
      "./trajectories/Fish20 NE1 C30_clean.csv\n",
      "./trajectories/Fish5 NE1 C200_clean.csv\n",
      "./trajectories/Fish13 NE1 C30_clean.csv\n",
      "./trajectories/Fish13 NE2 C200_clean.csv\n"
     ]
    }
   ],
   "source": [
    "high = []\n",
    "low = []\n",
    "for root, dirs, files in os.walk(\"./trajectories\"):  \n",
    "    for filename in files:\n",
    "        conductivity = re.search(\"[^h](\\d{2,3})\",filename).group(1) \n",
    "        print './trajectories/' + filename\n",
    "        dataset = np.genfromtxt('./trajectories/' + filename, delimiter=\",\", encoding=\"utf\")\n",
    "        size = dataset.shape[0]\n",
    "        if conductivity == \"200\":\n",
    "            high.append(size)\n",
    "        else:\n",
    "            low.append(size)"
   ]
  },
  {
   "cell_type": "code",
   "execution_count": 33,
   "metadata": {},
   "outputs": [
    {
     "data": {
      "text/plain": [
       "(22, 20)"
      ]
     },
     "execution_count": 33,
     "metadata": {},
     "output_type": "execute_result"
    }
   ],
   "source": [
    "len(high), len(low)"
   ]
  },
  {
   "cell_type": "code",
   "execution_count": 35,
   "metadata": {},
   "outputs": [
    {
     "data": {
      "text/plain": [
       "(543551, 514307)"
      ]
     },
     "execution_count": 35,
     "metadata": {},
     "output_type": "execute_result"
    }
   ],
   "source": [
    "sum(high), sum(low)"
   ]
  },
  {
   "cell_type": "code",
   "execution_count": 57,
   "metadata": {},
   "outputs": [
    {
     "data": {
      "text/plain": [
       "(1058.9169169169168, (544.0950950950951, 514.8218218218218))"
      ]
     },
     "execution_count": 57,
     "metadata": {},
     "output_type": "execute_result"
    }
   ],
   "source": [
    "h = np.sum(np.c_[high]/999.0), np.sum(np.c_[low]/999.0)\n",
    "np.sum(h), h"
   ]
  },
  {
   "cell_type": "code",
   "execution_count": 58,
   "metadata": {},
   "outputs": [],
   "source": [
    "base_dir = \"./\"\n"
   ]
  }
 ],
 "metadata": {
  "kernelspec": {
   "display_name": "Python 2",
   "language": "python",
   "name": "python2"
  },
  "language_info": {
   "codemirror_mode": {
    "name": "ipython",
    "version": 2
   },
   "file_extension": ".py",
   "mimetype": "text/x-python",
   "name": "python",
   "nbconvert_exporter": "python",
   "pygments_lexer": "ipython2",
   "version": "2.7.15"
  }
 },
 "nbformat": 4,
 "nbformat_minor": 2
}
